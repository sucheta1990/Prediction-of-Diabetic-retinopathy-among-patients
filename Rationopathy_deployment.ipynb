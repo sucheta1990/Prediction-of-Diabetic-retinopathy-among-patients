{
 "cells": [
  {
   "cell_type": "code",
   "execution_count": 1,
   "id": "d00956d3",
   "metadata": {},
   "outputs": [],
   "source": [
    "import pandas as pd\n",
    "import streamlit as st\n",
    "from sklearn.neighbors import KNeighborsClassifier\n",
    "from pickle import dump\n",
    "from pickle import load\n",
    "import pickle\n",
    "import numpy as np"
   ]
  },
  {
   "cell_type": "code",
   "execution_count": 2,
   "id": "d5c61407",
   "metadata": {},
   "outputs": [],
   "source": [
    "import warnings\n",
    "warnings.filterwarnings('ignore')"
   ]
  },
  {
   "cell_type": "code",
   "execution_count": 3,
   "id": "5cc8ae9f",
   "metadata": {},
   "outputs": [
    {
     "name": "stderr",
     "output_type": "stream",
     "text": [
      "2022-08-15 11:11:05.721 \n",
      "  \u001b[33m\u001b[1mWarning:\u001b[0m to view this Streamlit app on a browser, run it with the following\n",
      "  command:\n",
      "\n",
      "    streamlit run C:\\Users\\Akshay\\anaconda3\\lib\\site-packages\\ipykernel_launcher.py [ARGUMENTS]\n"
     ]
    },
    {
     "data": {
      "text/plain": [
       "DeltaGenerator(_root_container=1, _provided_cursor=None, _parent=DeltaGenerator(_root_container=0, _provided_cursor=None, _parent=None, _block_type=None, _form_data=None), _block_type=None, _form_data=None)"
      ]
     },
     "execution_count": 3,
     "metadata": {},
     "output_type": "execute_result"
    }
   ],
   "source": [
    "st.title('Ratinopathy Prediction in Patients')\n",
    "st.sidebar.header('User Input Parameters')"
   ]
  },
  {
   "cell_type": "code",
   "execution_count": 4,
   "id": "965c20c4",
   "metadata": {},
   "outputs": [
    {
     "data": {
      "text/plain": [
       "DeltaGenerator(_root_container=0, _provided_cursor=None, _parent=None, _block_type=None, _form_data=None)"
      ]
     },
     "execution_count": 4,
     "metadata": {},
     "output_type": "execute_result"
    }
   ],
   "source": [
    "st.subheader(\"MODEL DEPLOYMENT:Logistic Regression\")"
   ]
  },
  {
   "cell_type": "code",
   "execution_count": null,
   "id": "f11a9e76",
   "metadata": {},
   "outputs": [],
   "source": [
    "st.image('club.JPG')\n"
   ]
  },
  {
   "cell_type": "code",
   "execution_count": null,
   "id": "848e0cfa",
   "metadata": {},
   "outputs": [],
   "source": [
    "loaded_model=pickle.load(open('LOG_deploy.save','rb'))"
   ]
  },
  {
   "cell_type": "code",
   "execution_count": null,
   "id": "7f02d512",
   "metadata": {},
   "outputs": [],
   "source": [
    "def user_input_features():\n",
    "    Age =st.sidebar.number_input ('Enter age')\n",
    "    Systolic_BP=st.sidebar.number_input(\"enter the Systolic BP\")\n",
    "    Diastolic_BP=st.sidebar.number_input('enter the Diastolic BP')\n",
    "    Cholesterol=st.sidebar.number_input('enter the Cholesterol')\n",
    "    Ratinopathy_prediction={'Age':Age,\n",
    "           'Systolic BP':Systolic_BP,\n",
    "           'Diastolic BP':Diastolic_BP,\n",
    "           'Cholesterol':Cholesterol}\n",
    "    features = pd.DataFrame(Ratinopathy_prediction,index = [0])\n",
    "    return features\n",
    "\n",
    "\n",
    "df = user_input_features()\n",
    "st.subheader('User Input parameters')\n",
    "st.write(df)\n"
   ]
  },
  {
   "cell_type": "code",
   "execution_count": null,
   "id": "22bf302d",
   "metadata": {},
   "outputs": [],
   "source": [
    "import pickle\n",
    "loaded_model=pickle.load(open('LOG_deploy.save','rb'))\n",
    "loaded_model"
   ]
  },
  {
   "cell_type": "code",
   "execution_count": null,
   "id": "51d60ce6",
   "metadata": {},
   "outputs": [],
   "source": [
    "prediction = loaded_model.predict(df)\n",
    "\n",
    "prediction_proba = loaded_model.predict_proba(df)"
   ]
  },
  {
   "cell_type": "code",
   "execution_count": null,
   "id": "70d7aea6",
   "metadata": {},
   "outputs": [],
   "source": [
    "st.subheader('Prediction Probability')\n",
    "prediction_proba=pd.DataFrame(prediction_proba)\n",
    "b=[0]\n",
    "a= prediction_proba.iloc[:,0]\n",
    "if (a>0.7).any():\n",
    "    a='Not Suffering from Ratinopathy'\n",
    "    st.write(a)\n",
    "else:\n",
    "    b='Sufferring from Ratinopathy'\n",
    "    st.write(b)\n",
    "\n",
    "st.write(prediction_proba)\n"
   ]
  },
  {
   "cell_type": "code",
   "execution_count": null,
   "id": "b1226103",
   "metadata": {},
   "outputs": [],
   "source": [
    "output=pd.concat([df,prediction_proba],axis=1)"
   ]
  }
 ],
 "metadata": {
  "kernelspec": {
   "display_name": "Python 3",
   "language": "python",
   "name": "python3"
  },
  "language_info": {
   "codemirror_mode": {
    "name": "ipython",
    "version": 3
   },
   "file_extension": ".py",
   "mimetype": "text/x-python",
   "name": "python",
   "nbconvert_exporter": "python",
   "pygments_lexer": "ipython3",
   "version": "3.8.8"
  }
 },
 "nbformat": 4,
 "nbformat_minor": 5
}
